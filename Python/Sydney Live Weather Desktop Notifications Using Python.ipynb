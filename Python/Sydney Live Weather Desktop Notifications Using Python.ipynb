{
 "cells": [
  {
   "cell_type": "code",
   "execution_count": 90,
   "id": "53ab006e",
   "metadata": {},
   "outputs": [
    {
     "name": "stderr",
     "output_type": "stream",
     "text": [
      "WNDPROC return value cannot be converted to LRESULT\n"
     ]
    },
    {
     "ename": "TypeError",
     "evalue": "WPARAM is simple, so must be an int object (got NoneType)",
     "output_type": "error",
     "traceback": [
      "\u001b[1;31m---------------------------------------------------------------------------\u001b[0m",
      "\u001b[1;31mTypeError\u001b[0m                                 Traceback (most recent call last)",
      "\u001b[1;31mTypeError\u001b[0m: WPARAM is simple, so must be an int object (got NoneType)"
     ]
    },
    {
     "data": {
      "text/plain": [
       "True"
      ]
     },
     "execution_count": 90,
     "metadata": {},
     "output_type": "execute_result"
    }
   ],
   "source": [
    "# Simple Python script to show the live update for Weather information.\n",
    "\n",
    "# Step 1: Import all dependence\n",
    "import requests \n",
    "from bs4 import BeautifulSoup \n",
    "from win10toast import ToastNotifier\n",
    "from datetime import date\n",
    "\n",
    "# Step 2: Create an object of ToastNotifier class.\n",
    "toast = ToastNotifier()\n",
    "\n",
    "# Step 3: Define a function for getting data from the given url.\n",
    "def getdata(url): \n",
    "    r = requests.get(url) \n",
    "    return r.text\n",
    "\n",
    "# Step 4: Now pass the URL into the getdata function and Convert that data into HTML code.\n",
    "htmldata = getdata(\"https://weather.com/en-IN/weather/today/l/34c38d6112987dd6f8cd84bb3b059a39d2dad52a02ce94f26ca405520bf6cf93\") \n",
    "soup = BeautifulSoup(htmldata, 'html.parser')\n",
    "\n",
    "# Step 5: Find the required details and filter them\n",
    "current_temp = soup.find_all('span', class_=\"CurrentConditions--tempValue--MHmYY\")\n",
    "current_time = soup.find_all(\"span\", class_= \"CurrentConditions--timestamp--1ybTk\") \n",
    "CurrentCondition = soup.find_all(\"div\", class_= \"CurrentConditions--phraseValue--mZC_p\") \n",
    "\n",
    "temp=str(current_temp)\n",
    "c_time=str(current_time)\n",
    "cc = str(CurrentCondition)\n",
    "c_condition=BeautifulSoup(cc, 'html.parser') \n",
    "result = \"current_temp \" + temp[82:84] + \"\\n\" + c_condition.text[1:-1] + \"\\n\" + \" in Sydney\" + \"\\n\" +\"at \"+ c_time[-18:-8] + \" on \" + str(date.today())\n",
    "\n",
    "# Step 6: Now pass the result into notifications object.\n",
    "toast.show_toast(\"Weather update\", result, duration = 15)"
   ]
  },
  {
   "cell_type": "code",
   "execution_count": null,
   "id": "88835ba7",
   "metadata": {},
   "outputs": [],
   "source": []
  },
  {
   "cell_type": "code",
   "execution_count": null,
   "id": "d72ae197",
   "metadata": {},
   "outputs": [],
   "source": []
  },
  {
   "cell_type": "code",
   "execution_count": null,
   "id": "297161f2",
   "metadata": {},
   "outputs": [],
   "source": []
  },
  {
   "cell_type": "code",
   "execution_count": null,
   "id": "236a2b25",
   "metadata": {},
   "outputs": [],
   "source": []
  },
  {
   "cell_type": "code",
   "execution_count": null,
   "id": "81cf3590",
   "metadata": {},
   "outputs": [],
   "source": []
  }
 ],
 "metadata": {
  "kernelspec": {
   "display_name": "Python 3 (ipykernel)",
   "language": "python",
   "name": "python3"
  },
  "language_info": {
   "codemirror_mode": {
    "name": "ipython",
    "version": 3
   },
   "file_extension": ".py",
   "mimetype": "text/x-python",
   "name": "python",
   "nbconvert_exporter": "python",
   "pygments_lexer": "ipython3",
   "version": "3.11.5"
  }
 },
 "nbformat": 4,
 "nbformat_minor": 5
}
